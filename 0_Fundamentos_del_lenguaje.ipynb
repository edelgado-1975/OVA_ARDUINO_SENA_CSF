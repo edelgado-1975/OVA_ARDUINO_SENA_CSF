{
  "nbformat": 4,
  "nbformat_minor": 0,
  "metadata": {
    "colab": {
      "provenance": [],
      "authorship_tag": "ABX9TyMOWc/Z9/JCYKTm4QH3Ve4F",
      "include_colab_link": true
    },
    "kernelspec": {
      "name": "python3",
      "display_name": "Python 3"
    },
    "language_info": {
      "name": "python"
    }
  },
  "cells": [
    {
      "cell_type": "markdown",
      "metadata": {
        "id": "view-in-github",
        "colab_type": "text"
      },
      "source": [
        "<a href=\"https://colab.research.google.com/github/edelgado-1975/OVA_ARDUINO_SENA_CSF/blob/main/0_Fundamentos_del_lenguaje.ipynb\" target=\"_parent\"><img src=\"https://colab.research.google.com/assets/colab-badge.svg\" alt=\"Open In Colab\"/></a>"
      ]
    },
    {
      "cell_type": "markdown",
      "source": [
        "![image.png](data:image/png;base64,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)"
      ],
      "metadata": {
        "id": "uS2oKlSsY150"
      }
    },
    {
      "cell_type": "markdown",
      "source": [
        "**PSEUDOCODIGO - PSEINT - PYTHON**"
      ],
      "metadata": {
        "id": "gaL4cEefY9IE"
      }
    },
    {
      "cell_type": "markdown",
      "source": [
        "La comprensión de algoritmos es vital para programar eficientemente en Python y otros lenguajes. Los algoritmos proporcionan estructura lógica para resolver problemas, optimizar el rendimiento del programa y fomentar la creatividad. Python, siendo fácil de aprender, requiere sólidas bases en algoritmos para aprovechar su potencial. Los algoritmos eficientes permiten desarrollar soluciones rápidas y escalables, esenciales en un campo dinámico como la programación. Invertir en comprender y dominar los algoritmos establece una base sólida para una exitosa carrera en el desarrollo de software."
      ],
      "metadata": {
        "id": "-CkwiydOZfSa"
      }
    },
    {
      "cell_type": "markdown",
      "source": [
        "Hacer algoritmos primero en PSeInt antes de pasarlos a Python ofrece varios beneficios. PSeInt permite una representación más visual y simplificada de los algoritmos, lo que facilita la comprensión y depuración de errores. Además, al trabajar en PSeInt, los programadores pueden centrarse en la lógica del algoritmo sin preocuparse por la sintaxis específica del lenguaje. Esto les permite iterar rápidamente y experimentar con diferentes enfoques para resolver un problema. Una vez que el algoritmo funciona correctamente en PSeInt, trasladarlo a Python se vuelve más sencillo, ya que solo se requiere la conversión de la lógica al nuevo lenguaje.\n",
        "\n",
        "\n",
        "\n",
        "\n"
      ],
      "metadata": {
        "id": "dbpxRCsgafbj"
      }
    },
    {
      "cell_type": "markdown",
      "source": [
        "**INSTALACION DE PSEINT**\n",
        "\n",
        "PSeInt es un entorno de desarrollo para aprender programación que está disponible de forma gratuita y se puede descargar desde su sitio web oficial. Aquí tienes los pasos básicos para instalar PSeInt:\n",
        "\n",
        "Puedes descargar PSeInt desde su sitio web oficial: PSeInt - https://pseint.sourceforge.net/.\n",
        "\n",
        "Pasos de Instalación:\n",
        "\n",
        "1. na vez en el sitio web oficial, busca la sección de descargas o simplemente haz clic en el enlace de descarga directa.\n",
        "\n",
        "2. Dependiendo de tu sistema operativo, selecciona la versión adecuada para tu computadora (Windows, Linux o macOS).\n",
        "\n",
        "3.  el archivo de instalación y ábrelo.\n",
        "\n",
        "4. Sigue las instrucciones del asistente de instalación.\n",
        "Generalmente, es un proceso bastante sencillo y solo implica hacer clic en \"Siguiente\" o \"Instalar\" siguiendo las indicaciones.\n",
        "\n",
        "5. Una vez completada la instalación, podrás ejecutar PSeInt desde tu menú de inicio (en Windows) o desde el lanzador de aplicaciones (en Linux o macOS).\n",
        "\n",
        "Uso inicial:\n",
        "Al abrir PSeInt, encontrarás un entorno de trabajo limpio con un editor de texto y varias opciones en la barra de herramientas, para comenzar a escribir un algoritmo, simplemente escribe tu código en el editor de texto, una vez que hayas escrito tu algoritmo, puedes ejecutarlo haciendo clic en el botón \"Ejecutar\" en la barra de herramientas o presionando la tecla F9.\n",
        "\n",
        "**Nota:** para configurarlo que nos deje trabajar super bien debemos tener en cuenta click en el menu configurar / opciones del lenguaje (perfiles) / seleccionamos la opcion Sena tadsi caqueta / cerramos todas las ventanas y reiniciamos la aplicacion.\n"
      ],
      "metadata": {
        "id": "wSyKcEfyasNb"
      }
    },
    {
      "cell_type": "markdown",
      "source": [],
      "metadata": {
        "id": "_iAsqxu6cFuw"
      }
    }
  ]
}