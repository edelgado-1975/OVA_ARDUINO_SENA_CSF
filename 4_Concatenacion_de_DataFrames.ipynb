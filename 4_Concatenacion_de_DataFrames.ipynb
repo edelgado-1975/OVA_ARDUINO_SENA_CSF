{
  "nbformat": 4,
  "nbformat_minor": 0,
  "metadata": {
    "colab": {
      "provenance": [],
      "include_colab_link": true
    },
    "kernelspec": {
      "name": "python3",
      "display_name": "Python 3"
    }
  },
  "cells": [
    {
      "cell_type": "markdown",
      "metadata": {
        "id": "view-in-github",
        "colab_type": "text"
      },
      "source": [
        "<a href=\"https://colab.research.google.com/github/edelgado-1975/OVA_ARDUINO_SENA_CSF/blob/main/4_Concatenacion_de_DataFrames.ipynb\" target=\"_parent\"><img src=\"https://colab.research.google.com/assets/colab-badge.svg\" alt=\"Open In Colab\"/></a>"
      ]
    },
    {
      "cell_type": "markdown",
      "metadata": {
        "id": "n5DWAmONse35"
      },
      "source": [
        "# Concatenación de DataFrames: concat y append\n",
        "\n",
        "En este notebook se estudia como unir dos dataframes en uno solo. Esto es muy usual cuando se hace análisis de datos y a estos solo los podemos obtener en pequeños paquetes. Utilizando la función **for y append** podemos unirlos en unos solo rapidamente."
      ]
    },
    {
      "cell_type": "code",
      "metadata": {
        "id": "_WVewf0NsXNF"
      },
      "source": [
        "import pandas as pd\n",
        "import numpy as np"
      ],
      "execution_count": null,
      "outputs": []
    },
    {
      "cell_type": "markdown",
      "metadata": {
        "id": "g4D2hPSKv-6o"
      },
      "source": [
        "Lo primero que vamos a hacer es configurar pandas y numpy para que veamos pocos numeros decimales."
      ]
    },
    {
      "cell_type": "code",
      "metadata": {
        "id": "J0Od_Tdev1ga"
      },
      "source": [
        "pd.options.display.float_format = '{:.2f}'.format # para pandas"
      ],
      "execution_count": null,
      "outputs": []
    },
    {
      "cell_type": "code",
      "metadata": {
        "id": "vOOnhM19wFhs"
      },
      "source": [
        "np.set_printoptions(precision=2) # para numpy"
      ],
      "execution_count": null,
      "outputs": []
    },
    {
      "cell_type": "markdown",
      "metadata": {
        "id": "TvpxLsmPyQUx"
      },
      "source": [
        "## Concatenacion de vectores y matrices con numpy"
      ]
    },
    {
      "cell_type": "markdown",
      "metadata": {
        "id": "an20ltWowSHz"
      },
      "source": [
        "Lo primero que vamos a hacer es generar numeros aleatorios con numpy"
      ]
    },
    {
      "cell_type": "code",
      "metadata": {
        "id": "-MJHBCpxwPLs"
      },
      "source": [
        "np.random.rand()  # Numero aleatorio entre 0 y 1"
      ],
      "execution_count": null,
      "outputs": []
    },
    {
      "cell_type": "code",
      "metadata": {
        "id": "qKN0VhH_waum"
      },
      "source": [
        "np.random.randn()  # Numero aleatorio entre -1 y 1"
      ],
      "execution_count": null,
      "outputs": []
    },
    {
      "cell_type": "markdown",
      "metadata": {
        "id": "J68hvifOwoZl"
      },
      "source": [
        "Sabiendo lo anterior vamos a generar una matriz de 2 x 5"
      ]
    },
    {
      "cell_type": "code",
      "metadata": {
        "id": "kfr2vk0EwjAI"
      },
      "source": [
        "x1 = np.random.rand(2,5) * 100\n",
        "x1"
      ],
      "execution_count": null,
      "outputs": []
    },
    {
      "cell_type": "markdown",
      "metadata": {
        "id": "kdpqYcNtxAr2"
      },
      "source": [
        "Ahora una matriz de igual dimensión que la anterior pero con numeros negativos."
      ]
    },
    {
      "cell_type": "code",
      "metadata": {
        "id": "O6wRpN4bwwGv"
      },
      "source": [
        "x2 = np.random.rand(2,5) * -1\n",
        "x2"
      ],
      "execution_count": null,
      "outputs": []
    },
    {
      "cell_type": "markdown",
      "metadata": {
        "id": "0CeD4pCQxOIq"
      },
      "source": [
        "Numpy puede unir las dos matrices utilizando la función **.concatenate()**"
      ]
    },
    {
      "cell_type": "code",
      "metadata": {
        "id": "H46pd3GgxL6D"
      },
      "source": [
        "np.concatenate([x1,x2])"
      ],
      "execution_count": null,
      "outputs": []
    },
    {
      "cell_type": "markdown",
      "metadata": {
        "id": "-XawruKixkCo"
      },
      "source": [
        "Hemos concatenado a lo largo de las filas. Veamos las dimensiones de la matriz generada."
      ]
    },
    {
      "cell_type": "code",
      "metadata": {
        "id": "jUU6-8bsxbQS"
      },
      "source": [
        "np.concatenate([x1,x2]).shape"
      ],
      "execution_count": null,
      "outputs": []
    },
    {
      "cell_type": "markdown",
      "metadata": {
        "id": "tu30TqjIx13q"
      },
      "source": [
        "Tambien podemos concatenar a lo largo de las columnas, indicandoles a la función. Luego veamos las dimensiones de la matriz generada.\n"
      ]
    },
    {
      "cell_type": "code",
      "metadata": {
        "id": "qPOrrMx8xqOu"
      },
      "source": [
        "np.concatenate([x1,x2], axis = 1)"
      ],
      "execution_count": null,
      "outputs": []
    },
    {
      "cell_type": "code",
      "metadata": {
        "id": "0K-sYLu3yHgg"
      },
      "source": [
        "np.concatenate([x1,x2], axis = 1).shape"
      ],
      "execution_count": null,
      "outputs": []
    },
    {
      "cell_type": "markdown",
      "metadata": {
        "id": "YEI_3zKVydtf"
      },
      "source": [
        "## Concatenacion de filas y columnas (series) con pandas"
      ]
    },
    {
      "cell_type": "markdown",
      "metadata": {
        "id": "miUNM3ufynwF"
      },
      "source": [
        "Primero transformemos los vectores antes generados en **numpy** en series para poder manipularlos con **pandas**."
      ]
    },
    {
      "cell_type": "code",
      "metadata": {
        "id": "hBcOKrN8ykZa"
      },
      "source": [
        "s1 = pd.Series(x1[0], index=['a','b','c','d','e'])\n",
        "s1"
      ],
      "execution_count": null,
      "outputs": []
    },
    {
      "cell_type": "code",
      "metadata": {
        "id": "mYfD6-ouy5YO"
      },
      "source": [
        "s2 = pd.Series(x2[0], index=['c','d','e','f','g'])\n",
        "s2"
      ],
      "execution_count": null,
      "outputs": []
    },
    {
      "cell_type": "markdown",
      "metadata": {
        "id": "l_k0iboBzSE6"
      },
      "source": [
        "Para hacer una concatenación en pandas utilizamos la función **.concat()**."
      ]
    },
    {
      "cell_type": "code",
      "metadata": {
        "id": "Gb6qqwdtzQCW"
      },
      "source": [
        "pd.concat([s1,s2])"
      ],
      "execution_count": null,
      "outputs": []
    },
    {
      "cell_type": "markdown",
      "metadata": {
        "id": "Wqxi_xU0zeyG"
      },
      "source": [
        "Lo que sucede es que concatenan a lo largo de las filas. Podemos alterar este comportamiento y que se concatenen respetando indices y a lo largo de las columnas de la siguiente manera."
      ]
    },
    {
      "cell_type": "code",
      "metadata": {
        "id": "Lw2lifv9zduB"
      },
      "source": [
        "pd.concat([s1,s2], axis=1)"
      ],
      "execution_count": null,
      "outputs": []
    },
    {
      "cell_type": "markdown",
      "metadata": {
        "id": "rGibv6AIC40t"
      },
      "source": [
        "Se cocatenan respetando los indices puesto"
      ]
    },
    {
      "cell_type": "markdown",
      "metadata": {
        "id": "TRuxsODIDVno"
      },
      "source": [
        "Ahora si queremos concatenar sin respetar el indice lo que podemos hacer es resetear los indices."
      ]
    },
    {
      "cell_type": "code",
      "metadata": {
        "id": "79dIRckqzr0o"
      },
      "source": [
        "s1.reset_index()"
      ],
      "execution_count": null,
      "outputs": []
    },
    {
      "cell_type": "markdown",
      "metadata": {
        "id": "rXbduUpIDhid"
      },
      "source": [
        "Y podemos obtener una nueva serie con nuevos indices y eliminamos los indices..."
      ]
    },
    {
      "cell_type": "code",
      "metadata": {
        "id": "eSjM3xp-Dd05"
      },
      "source": [
        "s1.reset_index(drop=True)"
      ],
      "execution_count": null,
      "outputs": []
    },
    {
      "cell_type": "markdown",
      "metadata": {
        "id": "7YA4DMe4DtFo"
      },
      "source": [
        "Vamos a crear una nueva concatenación eliminandos los indices."
      ]
    },
    {
      "cell_type": "code",
      "metadata": {
        "id": "05uIYvuEDotA"
      },
      "source": [
        "pd.concat([s1.reset_index(drop=True),s2.reset_index(drop=True)], axis=1)"
      ],
      "execution_count": null,
      "outputs": []
    },
    {
      "cell_type": "markdown",
      "metadata": {
        "id": "F_pnELhRD4KX"
      },
      "source": [
        "Tengo ahora una concatenación pero ahora ya no respeta el índice, en realidad se respeta el nuevo indice creado (reset_index)"
      ]
    },
    {
      "cell_type": "markdown",
      "metadata": {
        "id": "CWd5oVvEEIyo"
      },
      "source": [
        "## Concatenacion de dataframe con pandas"
      ]
    },
    {
      "cell_type": "markdown",
      "metadata": {
        "id": "a6ambZNlEeuK"
      },
      "source": [
        "Creemos un DataFrame simple con valores aleatorio."
      ]
    },
    {
      "cell_type": "code",
      "metadata": {
        "id": "6iaxV-T4ES7s"
      },
      "source": [
        "df1 = pd.DataFrame(np.random.rand(3,2)*10, columns=['a','b'])\n",
        "df1"
      ],
      "execution_count": null,
      "outputs": []
    },
    {
      "cell_type": "markdown",
      "metadata": {
        "id": "AQJs1Im6FK5Y"
      },
      "source": [
        "Podemos un segundo dataframe con numeros negativos y cambios de indice."
      ]
    },
    {
      "cell_type": "code",
      "metadata": {
        "id": "WYLz27jWEclr"
      },
      "source": [
        "df2 = pd.DataFrame(np.random.rand(3,2)*-1, columns=['a','b'], index=[2,3,4])\n",
        "df2"
      ],
      "execution_count": null,
      "outputs": []
    },
    {
      "cell_type": "markdown",
      "metadata": {
        "id": "QA3KYT04FcnW"
      },
      "source": [
        "Concatenemos los dataframe anteriores, estos lo haran a lo largo de las filas de forma predenterminada."
      ]
    },
    {
      "cell_type": "code",
      "metadata": {
        "id": "pSiy5lwIFa0u"
      },
      "source": [
        "pd.concat([df1,df2])"
      ],
      "execution_count": null,
      "outputs": []
    },
    {
      "cell_type": "markdown",
      "metadata": {
        "id": "jIFED4kgFpO_"
      },
      "source": [
        "Si lo queremos hacer a lo largo de las columnas debemos hacerlo como sigue:"
      ]
    },
    {
      "cell_type": "code",
      "metadata": {
        "id": "cm4GrMMZFhs-"
      },
      "source": [
        "pd.concat([df1,df2], axis=1)"
      ],
      "execution_count": null,
      "outputs": []
    },
    {
      "cell_type": "markdown",
      "metadata": {
        "id": "pVM1adniFxxi"
      },
      "source": [
        "Lo que paso en el primer caso es que se repetian indices de filas y se compatian indices de columnas.\n",
        "\n",
        "En el segundo caso pasa lo contrario, se comparten los indices de las filas y se repiten los índices de las columnas."
      ]
    },
    {
      "cell_type": "markdown",
      "metadata": {
        "id": "acqtQ_wJGJPK"
      },
      "source": [
        "Si hacemos concatenacion de dos dataframe y queremos hacer enfasis de solo los elementos que se comparten, lo hacemos de la siguiente manera."
      ]
    },
    {
      "cell_type": "code",
      "metadata": {
        "id": "J8LJmzFSFvHh"
      },
      "source": [
        "pd.concat([df1,df2], axis=1, join='inner')"
      ],
      "execution_count": null,
      "outputs": []
    },
    {
      "cell_type": "markdown",
      "metadata": {
        "id": "0T3iwD2IGatf"
      },
      "source": [
        "Podemos resetear los indices tambien como hicimos antes:"
      ]
    },
    {
      "cell_type": "code",
      "metadata": {
        "id": "hL33cFN2GVqr"
      },
      "source": [
        "pd.concat([df1.reset_index(drop=True),\n",
        "           df2.reset_index(drop=True)],\n",
        "           axis=1, join='inner')"
      ],
      "execution_count": null,
      "outputs": []
    },
    {
      "cell_type": "markdown",
      "metadata": {
        "id": "KocDBRfJGti5"
      },
      "source": [
        "Hay una forma mas simple de unir dos dataframe con una función llamada **append**"
      ]
    },
    {
      "cell_type": "code",
      "metadata": {
        "id": "cqmrbkZZGpd5"
      },
      "source": [
        "df1.append(df2)"
      ],
      "execution_count": null,
      "outputs": []
    },
    {
      "cell_type": "code",
      "metadata": {
        "id": "9XUpuu4aHBxB"
      },
      "source": [
        "df1.append(df2).append(df2)\n"
      ],
      "execution_count": null,
      "outputs": []
    },
    {
      "cell_type": "markdown",
      "metadata": {
        "id": "gVjQpmmGHIII"
      },
      "source": [
        "Ahora si queremos hacer un append a los largo de las columnas debemos hacer la transpueta de nuestro dataframe."
      ]
    },
    {
      "cell_type": "code",
      "metadata": {
        "id": "_q6bYVPyHFsp"
      },
      "source": [
        "df1"
      ],
      "execution_count": null,
      "outputs": []
    },
    {
      "cell_type": "code",
      "metadata": {
        "id": "ocxYfWFpHTr7"
      },
      "source": [
        "df1.T"
      ],
      "execution_count": null,
      "outputs": []
    },
    {
      "cell_type": "code",
      "metadata": {
        "id": "Ccf-4Jt4HVGh"
      },
      "source": [
        "df1.T.append(df2.T)"
      ],
      "execution_count": null,
      "outputs": []
    },
    {
      "cell_type": "code",
      "metadata": {
        "id": "gyT2fpWeHdCL"
      },
      "source": [
        "df1.T.append(df2.T).T"
      ],
      "execution_count": null,
      "outputs": []
    },
    {
      "cell_type": "code",
      "metadata": {
        "id": "NhCgLieWHfoV"
      },
      "source": [],
      "execution_count": null,
      "outputs": []
    }
  ]
}